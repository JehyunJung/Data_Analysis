{
 "cells": [
  {
   "cell_type": "markdown",
   "metadata": {},
   "source": [
    "Copyright (c) 2019 [윤기태]\n",
    "\n",
    "https://github.com/yoonkt200/python-data-analysis\n",
    "\n",
    "[MIT License](https://github.com/yoonkt200/python-data-analysis/blob/master/LICENSE.txt)"
   ]
  },
  {
   "cell_type": "markdown",
   "metadata": {},
   "source": [
    "# (가제) 파이썬 데이터 분석"
   ]
  },
  {
   "cell_type": "markdown",
   "metadata": {},
   "source": [
    "-----"
   ]
  },
  {
   "cell_type": "markdown",
   "metadata": {},
   "source": [
    "# 트위터 API 사용법"
   ]
  },
  {
   "cell_type": "markdown",
   "metadata": {},
   "source": [
    "### 1. 트위터 개발자 계정 신청"
   ]
  },
  {
   "cell_type": "markdown",
   "metadata": {},
   "source": [
    "- 트위터 개발자 앱 등록 페이지 : https://developer.twitter.com/en/apps\n",
    "    - `개발자 계정이 없는 경우, 아래와 같은 과정을 거쳐 개발자 계정을 등록`"
   ]
  },
  {
   "cell_type": "markdown",
   "metadata": {},
   "source": [
    "![앱 생성 페이지](img/1.png)"
   ]
  },
  {
   "cell_type": "markdown",
   "metadata": {},
   "source": [
    "![앱 생성 페이지](img/2.png)"
   ]
  },
  {
   "cell_type": "markdown",
   "metadata": {},
   "source": [
    "![앱 생성 페이지](img/3.png)"
   ]
  },
  {
   "cell_type": "markdown",
   "metadata": {},
   "source": [
    "![앱 생성 페이지](img/4.png)"
   ]
  },
  {
   "cell_type": "markdown",
   "metadata": {},
   "source": [
    "![앱 생성 페이지](img/5.png)"
   ]
  },
  {
   "cell_type": "markdown",
   "metadata": {},
   "source": [
    "- 개발자 등록을 마친 계정은 며칠 후에 승인을 받게 됩니다."
   ]
  },
  {
   "cell_type": "markdown",
   "metadata": {},
   "source": [
    "-----"
   ]
  },
  {
   "cell_type": "markdown",
   "metadata": {},
   "source": [
    "### 2. 트위터 apps 등록"
   ]
  },
  {
   "cell_type": "markdown",
   "metadata": {},
   "source": [
    "- `개발자 앱 등록`"
   ]
  },
  {
   "cell_type": "markdown",
   "metadata": {},
   "source": [
    "![앱 생성 페이지](img/1.png)"
   ]
  },
  {
   "cell_type": "markdown",
   "metadata": {},
   "source": [
    "-----\n",
    "- `아래의 내용을 기입하여 앱을 생성`\n",
    "    - Name : 앱의 이름\n",
    "    - Description : 앱의 요약\n",
    "    - Website : 앱에서 보여질 URL (아무 주소나 넣어도 상관 X)\n",
    "    - ..."
   ]
  },
  {
   "cell_type": "markdown",
   "metadata": {},
   "source": [
    "![앱 생성 페이지](img/6.png)"
   ]
  },
  {
   "cell_type": "markdown",
   "metadata": {},
   "source": [
    "![앱 생성 페이지](img/7.png)"
   ]
  },
  {
   "cell_type": "markdown",
   "metadata": {},
   "source": [
    "-----\n",
    "- `앱 생성 후, 아래의 중요 정보를 반드시 확인`\n",
    "    - Consumer Key (API Key)\n",
    "    - Consumer Secret (API Secret)\n",
    "    - Access Token\n",
    "    - Access Token Secret"
   ]
  },
  {
   "cell_type": "markdown",
   "metadata": {},
   "source": [
    "![앱 생성 페이지](img/8.png)"
   ]
  },
  {
   "cell_type": "markdown",
   "metadata": {},
   "source": [
    "-----"
   ]
  },
  {
   "cell_type": "markdown",
   "metadata": {},
   "source": [
    "### 3. 파이썬 API 설정"
   ]
  },
  {
   "cell_type": "markdown",
   "metadata": {},
   "source": [
    "- 아래 코드 실행을 위해, anaconda prompt 혹은 Terminal에서 아래와 같은 패키지들을 설치해 줍니다.\n",
    "    - (env_name) `pip install beautifulsoup4`\n",
    "    - (env_name) `pip install lxml`\n",
    "- 혹은 아래의 코드로 라이브러리를 설치합니다."
   ]
  },
  {
   "cell_type": "code",
   "execution_count": 1,
   "metadata": {},
   "outputs": [],
   "source": [
    "# 패키지 설치 확인\n",
    "import tweepy"
   ]
  },
  {
   "cell_type": "markdown",
   "metadata": {},
   "source": [
    "-----"
   ]
  },
  {
   "cell_type": "markdown",
   "metadata": {},
   "source": [
    "- 2. 아래의 코드를 실행하여 API 토큰 인증"
   ]
  },
  {
   "cell_type": "code",
   "execution_count": 2,
   "metadata": {},
   "outputs": [],
   "source": [
    "import tweepy\n",
    "\n",
    "# 발급 완료된 키를 {your_key} 대신 입력합니다.\n",
    "CONSUMER_KEY = \"{your_key}\"\n",
    "CONSUMER_SECRET = \"{your_key}\"\n",
    "ACCESS_TOKEN_KEY = \"{your_key}\"\n",
    "ACCESS_TOKEN_SECRET = \"{your_key}\"\n",
    "\n",
    "# 개인정보 인증을 요청하는 Handler입니다.\n",
    "auth = tweepy.OAuthHandler(CONSUMER_KEY, CONSUMER_SECRET)\n",
    "\n",
    "# 인증 요청을 수행합니다.\n",
    "auth.set_access_token(ACCESS_TOKEN_KEY, ACCESS_TOKEN_SECRET)\n",
    "\n",
    "# twitter API를 사용하기 위한 준비입니다.\n",
    "api = tweepy.API(auth)"
   ]
  },
  {
   "cell_type": "code",
   "execution_count": 3,
   "metadata": {
    "scrolled": true
   },
   "outputs": [
    {
     "name": "stdout",
     "output_type": "stream",
     "text": [
      "[]\n",
      "[{'text': '통일교', 'indices': [67, 71]}, {'text': '버즈오브', 'indices': [72, 77]}, {'text': '입춘대길', 'indices': [78, 83]}, {'text': '손흥민', 'indices': [84, 88]}, {'text': '이재훈', 'indices': [89, 93]}]\n",
      "16☎☎카톡문의【ｋｐ33】통장거래 가장 오래된 업체 최소 6개월 진행가능장기간 안전하게 안쓰는 통장으로 매달 수익내세요\n",
      "#통일교 #버즈오브 #입춘대길 #손흥민 #이재훈\n",
      "[]\n",
      "[{'text': '소시오패스', 'indices': [67, 73]}, {'text': '리버플', 'indices': [74, 78]}, {'text': '신의탑', 'indices': [79, 83]}, {'text': '맘카페', 'indices': [84, 88]}, {'text': '손흥민', 'indices': [89, 93]}]\n",
      "15☎☎카톡문의【ｋｐ33】통장거래 가장 오래된 업체 최소 6개월 진행가능장기간 안전하게 안쓰는 통장으로 매달 수익내세요\n",
      "#소시오패스 #리버플 #신의탑 #맘카페 #손흥민\n",
      "[]\n",
      "[{'text': '쿠팡이츠', 'indices': [67, 72]}, {'text': '정유미', 'indices': [73, 77]}, {'text': '손흥민', 'indices': [78, 82]}, {'text': '현대홈쇼핑', 'indices': [83, 89]}, {'text': '도끼', 'indices': [90, 93]}]\n",
      "14☎☎카톡문의【ｋｐ33】통장거래 가장 오래된 업체 최소 6개월 진행가능장기간 안전하게 안쓰는 통장으로 매달 수익내세요\n",
      "#쿠팡이츠 #정유미 #손흥민 #현대홈쇼핑 #도끼\n",
      "[{'screen_name': 'sooilli', 'name': '쏘쏘', 'id': 1044447686164795393, 'id_str': '1044447686164795393', 'indices': [3, 11]}]\n",
      "[]\n",
      "RT @sooilli: 흥민 올해의 골 수상 ㅠㅠㅠㅠㅠ 최고다 올해의 선수상은 못받았지만 그래도 손흥민이 최고야 ㅠㅠㅠ\n",
      "번리전골은 진짜 대박이야 레전드골.. https://t.co/i7DB6KPfjc\n",
      "[]\n",
      "[{'text': '야동', 'indices': [29, 32]}, {'text': '연예인', 'indices': [33, 37]}, {'text': '대출', 'indices': [38, 41]}, {'text': '급전', 'indices': [42, 45]}, {'text': '일수', 'indices': [46, 49]}, {'text': '월변', 'indices': [50, 53]}, {'text': '불법일', 'indices': [54, 58]}, {'text': '불법돈', 'indices': [59, 63]}, {'text': '불법알바', 'indices': [64, 69]}, {'text': '토토', 'indices': [70, 73]}, {'text': '스포츠', 'indices': [74, 78]}, {'text': '축구', 'indices': [79, 82]}, {'text': '토트넘', 'indices': [83, 87]}, {'text': '손흥민', 'indices': [88, 92]}, {'text': '소액결제', 'indices': [93, 98]}, {'text': '통장', 'indices': [99, 102]}, {'text': '폰테크', 'indices': [103, 107]}, {'text': '작업대출', 'indices': [108, 113]}]\n",
      "돈진짜급한분들 많이버실분들 문의\n",
      "카톡 uto077 \n",
      "#야동 #연예인 #대출 #급전 #일수\n",
      "#월변 #불법일 #불법돈 #불법알바\n",
      "#토토 #스포츠 #축구 #토트넘\n",
      "#손흥민 #소액결제 #통장 #폰테크\n",
      "#작업대출… https://t.co/osaO1PVb6J\n",
      "[]\n",
      "[]\n",
      "위닝 요즘 박투박 수미 키우고 있는데 진짜 국대만 오면 맵 전체적으로 리딩하고 볼 받아줄 위치로 존나 뛰어가줘야 안뺏기고 뿌려줄때도 얘가 공중볼 경합이 될지 안될지 생각해야하고 간간히 중거리에서 골대도 노리거나 손흥민 하나보고 올려줘야하니 돌겠네\n",
      "[]\n",
      "[]\n",
      "손흥민선수를 진정한 축친놈으로.... https://t.co/LOLgJQmz88\n",
      "[{'screen_name': 'sooilli', 'name': '쏘쏘', 'id': 1044447686164795393, 'id_str': '1044447686164795393', 'indices': [3, 11]}]\n",
      "[]\n",
      "RT @sooilli: 흥민 올해의 골 수상 ㅠㅠㅠㅠㅠ 최고다 올해의 선수상은 못받았지만 그래도 손흥민이 최고야 ㅠㅠㅠ\n",
      "번리전골은 진짜 대박이야 레전드골.. https://t.co/i7DB6KPfjc\n",
      "[]\n",
      "[]\n",
      "손 손흥민 흥 흥해라 민 민망하다\n",
      "[{'screen_name': 'sooilli', 'name': '쏘쏘', 'id': 1044447686164795393, 'id_str': '1044447686164795393', 'indices': [3, 11]}]\n",
      "[]\n",
      "RT @sooilli: 흥민 올해의 골 수상 ㅠㅠㅠㅠㅠ 최고다 올해의 선수상은 못받았지만 그래도 손흥민이 최고야 ㅠㅠㅠ\n",
      "번리전골은 진짜 대박이야 레전드골.. https://t.co/i7DB6KPfjc\n",
      "[]\n",
      "[]\n",
      "[T포토] 손흥민 '미소가 너~무 귀여워'\n",
      "[]\n",
      "[{'text': '손흥민', 'indices': [0, 4]}]\n",
      "#손흥민 https://t.co/RB2rxG6hMh\n",
      "[{'screen_name': 'sooilli', 'name': '쏘쏘', 'id': 1044447686164795393, 'id_str': '1044447686164795393', 'indices': [3, 11]}]\n",
      "[]\n",
      "RT @sooilli: 손흥민 원더골 현지해설\n",
      "\n",
      "- 단독드리블 돌파 세계최장거리 세계신기록\n",
      "\n",
      "- EPL 최초 8명 돌파 성공\n",
      "\n",
      " - 34km로 약 75m 12초 돌파\n",
      "\n",
      "손흥민 취미가 신기록 세우기인지 \n",
      "오늘 세계신기록까지 세워버리는 손흥민 레전드다…\n",
      "[]\n",
      "[]\n",
      "팬이 뽑은 손흥민의 '올해의 골'.. 英, \"노력이 투표로 인정 받아\" | 다음 스포츠 https://t.co/dtMom9C9hp\n",
      "[]\n",
      "[{'text': '헤찬', 'indices': [0, 3]}, {'text': 'HAECHAN', 'indices': [4, 12]}, {'text': 'NCT127', 'indices': [13, 20]}, {'text': 'NCTDREAM', 'indices': [21, 30]}, {'text': '엔시티127', 'indices': [31, 38]}, {'text': '엔시티드림', 'indices': [39, 45]}, {'text': '황민현', 'indices': [65, 69]}, {'text': 'MINHYUN', 'indices': [70, 78]}, {'text': '민현', 'indices': [79, 82]}, {'text': 'NUSET', 'indices': [83, 89]}, {'text': '뉴이스트', 'indices': [90, 95]}]\n",
      "#헤찬 #HAECHAN #NCT127 #NCTDREAM #엔시티127 #엔시티드림 헤찬 일본 Japan Tokyo \n",
      "#황민현 #MINHYUN #민현 #NUSET #뉴이스트 황민현 일본 도쿄 오사카 대만 싱가… https://t.co/IX4lFXY5j9\n"
     ]
    }
   ],
   "source": [
    "# twitter API를 사용하여 ‘손흥민’이 포함된 트윗들을 크롤링한 뒤, entities 에서 ‘user_mentions’, ‘hashtags’를 추출합니다.\n",
    "keyword = \"손흥민\"\n",
    "tweets = api.search(keyword)\n",
    "for tweet in tweets:\n",
    "    print(tweet.entities['user_mentions'])\n",
    "    print(tweet.entities['hashtags'])\n",
    "    print(tweet.text)"
   ]
  }
 ],
 "metadata": {
  "kernelspec": {
   "display_name": "Python 3",
   "language": "python",
   "name": "python3"
  },
  "language_info": {
   "codemirror_mode": {
    "name": "ipython",
    "version": 3
   },
   "file_extension": ".py",
   "mimetype": "text/x-python",
   "name": "python",
   "nbconvert_exporter": "python",
   "pygments_lexer": "ipython3",
   "version": "3.7.4"
  },
  "toc": {
   "base_numbering": 1,
   "nav_menu": {},
   "number_sections": true,
   "sideBar": true,
   "skip_h1_title": false,
   "title_cell": "Table of Contents",
   "title_sidebar": "Contents",
   "toc_cell": false,
   "toc_position": {},
   "toc_section_display": true,
   "toc_window_display": true
  }
 },
 "nbformat": 4,
 "nbformat_minor": 2
}
